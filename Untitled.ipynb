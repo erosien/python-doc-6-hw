{
 "cells": [
  {
   "cell_type": "code",
   "execution_count": 15,
   "id": "4ec21621",
   "metadata": {},
   "outputs": [
    {
     "name": "stdout",
     "output_type": "stream",
     "text": [
      "Do you want to calculate your ROI? calculate/quit calculate\n",
      "Your ROI % is 12.0\n",
      "Do you want to calculate your ROI? calculate/quit hello\n",
      "Try another command\n",
      "Do you want to calculate your ROI? calculate/quit quit\n"
     ]
    }
   ],
   "source": [
    "# income - expenses = total monthly cash flow\n",
    "# monthly cash flow * 12 = annual cash flow\n",
    "# annual cash flow / total investment = cash on cash ROI %\n",
    "\n",
    "class RentalPropertyCalc():\n",
    "    def __init__(self, income, expenses, investment):\n",
    "        self.income = income\n",
    "        self.expenses = expenses\n",
    "        self.investment = investment\n",
    "        \n",
    "    def monthlyCashFlowCalc(self):\n",
    "        monthly_cash_flow = self.income - self.expenses\n",
    "        return monthly_cash_flow\n",
    "        \n",
    "    def annualCashFlowCalc(self):\n",
    "        annual_cash_flow = (self.income - self.expenses) * 12\n",
    "        return annual_cash_flow\n",
    "    \n",
    "    def ROICalc(self):\n",
    "        ROI = (self.income - self.expenses) * 12 / self.investment\n",
    "        return ROI\n",
    "        \n",
    "        \n",
    "my_ROI = RentalPropertyCalc(5000, 2000, 3000)\n",
    "\n",
    "def run():\n",
    "    while True:\n",
    "        response = input('Do you want to calculate your ROI? calculate/quit ')\n",
    "        \n",
    "        if response.lower() == 'quit':\n",
    "            break\n",
    "        elif response.lower() == 'calculate':\n",
    "            my_ROI.monthlyCashFlowCalc()\n",
    "            my_ROI.annualCashFlowCalc()\n",
    "            print(f\"Your ROI % is {my_ROI.ROICalc()}\")\n",
    "        else:\n",
    "            print(\"Try another command\")\n",
    "run()"
   ]
  },
  {
   "cell_type": "code",
   "execution_count": null,
   "id": "5525ae6d",
   "metadata": {},
   "outputs": [],
   "source": []
  },
  {
   "cell_type": "code",
   "execution_count": null,
   "id": "153692cf",
   "metadata": {},
   "outputs": [],
   "source": []
  },
  {
   "cell_type": "code",
   "execution_count": null,
   "id": "831933cb",
   "metadata": {},
   "outputs": [],
   "source": []
  }
 ],
 "metadata": {
  "kernelspec": {
   "display_name": "Python 3 (ipykernel)",
   "language": "python",
   "name": "python3"
  },
  "language_info": {
   "codemirror_mode": {
    "name": "ipython",
    "version": 3
   },
   "file_extension": ".py",
   "mimetype": "text/x-python",
   "name": "python",
   "nbconvert_exporter": "python",
   "pygments_lexer": "ipython3",
   "version": "3.9.13"
  }
 },
 "nbformat": 4,
 "nbformat_minor": 5
}
